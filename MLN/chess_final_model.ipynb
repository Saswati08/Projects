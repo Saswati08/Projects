{
  "nbformat": 4,
  "nbformat_minor": 0,
  "metadata": {
    "colab": {
      "name": "chess_final_model.ipynb",
      "provenance": [],
      "collapsed_sections": []
    },
    "kernelspec": {
      "name": "python3",
      "display_name": "Python 3"
    }
  },
  "cells": [
    {
      "cell_type": "code",
      "metadata": {
        "id": "4x5u1q4-MqFD",
        "colab_type": "code",
        "colab": {}
      },
      "source": [
        "from google.colab import drive\n",
        "drive.mount('/content/drive/')"
      ],
      "execution_count": 0,
      "outputs": []
    },
    {
      "cell_type": "code",
      "metadata": {
        "id": "yqk2n47iMuji",
        "colab_type": "code",
        "colab": {}
      },
      "source": [
        "cd drive/My Drive/mln_project"
      ],
      "execution_count": 0,
      "outputs": []
    },
    {
      "cell_type": "code",
      "metadata": {
        "id": "zr0MzRYBhJyF",
        "colab_type": "code",
        "colab": {}
      },
      "source": [
        "!pip install node2vec"
      ],
      "execution_count": 0,
      "outputs": []
    },
    {
      "cell_type": "code",
      "metadata": {
        "id": "f3OC294HM73l",
        "colab_type": "code",
        "colab": {}
      },
      "source": [
        "import pandas as pd\n",
        "import numpy as np\n",
        "import networkx as nx\n",
        "import math\n",
        "from scipy import spatial\n",
        "from node2vec import Node2Vec\n",
        "from sklearn.metrics import accuracy_score\n",
        "import seaborn as sns"
      ],
      "execution_count": 0,
      "outputs": []
    },
    {
      "cell_type": "code",
      "metadata": {
        "id": "XPRpbjQoNE55",
        "colab_type": "code",
        "colab": {}
      },
      "source": [
        "filename = 'primary_training_part1.csv'\n",
        "df = pd.read_csv(filename, delimiter = ',', header = None)\n",
        "df = np.array(df)\n",
        "players_mp = set()\n",
        "for i in range(1, 50000):\n",
        "  players_mp.add(int(df[i][2]))\n",
        "  players_mp.add(int(df[i][3]))\n",
        "players_mp = list(players_mp)"
      ],
      "execution_count": 0,
      "outputs": []
    },
    {
      "cell_type": "code",
      "metadata": {
        "id": "Y-Eq5I9DgIRX",
        "colab_type": "code",
        "colab": {}
      },
      "source": [
        "int(0.1 * df.shape[0])"
      ],
      "execution_count": 0,
      "outputs": []
    },
    {
      "cell_type": "code",
      "metadata": {
        "id": "kn-8AWlHNPTt",
        "colab_type": "code",
        "colab": {}
      },
      "source": [
        "players_map = {}\n",
        "for i in range(len(players_mp)):\n",
        "  players_map[players_mp[i]] = i"
      ],
      "execution_count": 0,
      "outputs": []
    },
    {
      "cell_type": "code",
      "metadata": {
        "id": "6auRGTqmATpY",
        "colab_type": "code",
        "colab": {}
      },
      "source": [
        "\n",
        "players_win_map = {}\n",
        "for i in range(0, len(players_mp)):\n",
        "  players_win_map[i] = []\n",
        "  # print(key)\n"
      ],
      "execution_count": 0,
      "outputs": []
    },
    {
      "cell_type": "code",
      "metadata": {
        "id": "_lRbbpXB7OkO",
        "colab_type": "code",
        "colab": {}
      },
      "source": [
        "len(players_win_map)"
      ],
      "execution_count": 0,
      "outputs": []
    },
    {
      "cell_type": "code",
      "metadata": {
        "id": "Z5ag4ahqtaov",
        "colab_type": "code",
        "colab": {}
      },
      "source": [
        "df[0][3]"
      ],
      "execution_count": 0,
      "outputs": []
    },
    {
      "cell_type": "code",
      "metadata": {
        "id": "d-lXCGy-NTcb",
        "colab_type": "code",
        "colab": {}
      },
      "source": [
        "train_graph = nx.DiGraph()\n",
        "for i in range(1, 50000):\n",
        "    damp_factor = 1/(1 + math.exp( - int(df[i][1])))\n",
        "    # print(damp_factor)\n",
        "    wh = players_map[int(df[i][2])]\n",
        "    bl = players_map[int(df[i][3])]\n",
        "    if float(df[i][4]) == 1:\n",
        "        train_graph.add_edge(bl, wh, weight = damp_factor) \n",
        "    elif float(df[i][4]) == 0:\n",
        "        train_graph.add_edge(wh, bl, weight = damp_factor)\n",
        "    elif float(df[i][4]) == 0.5:\n",
        "        train_graph.add_edge(bl, wh, weight = 0.5 * damp_factor)\n",
        "        train_graph.add_edge(wh, bl, weight = 0.5 * damp_factor)\n",
        "        \n",
        "    "
      ],
      "execution_count": 0,
      "outputs": []
    },
    {
      "cell_type": "code",
      "metadata": {
        "id": "QMvBag_ctoX6",
        "colab_type": "code",
        "colab": {}
      },
      "source": [
        "train_graph.has_node(22)"
      ],
      "execution_count": 0,
      "outputs": []
    },
    {
      "cell_type": "code",
      "metadata": {
        "id": "WH2htshjNzVx",
        "colab_type": "code",
        "colab": {}
      },
      "source": [
        "train_graph.number_of_nodes()"
      ],
      "execution_count": 0,
      "outputs": []
    },
    {
      "cell_type": "code",
      "metadata": {
        "id": "6Qs2qhubfjot",
        "colab_type": "code",
        "colab": {}
      },
      "source": [
        "train_graph.number_of_edges()"
      ],
      "execution_count": 0,
      "outputs": []
    },
    {
      "cell_type": "code",
      "metadata": {
        "id": "LfRBW3veN3g0",
        "colab_type": "code",
        "colab": {}
      },
      "source": [
        "pr = nx.pagerank(train_graph, alpha=0.85)"
      ],
      "execution_count": 0,
      "outputs": []
    },
    {
      "cell_type": "code",
      "metadata": {
        "id": "W4hFbS-9OoQw",
        "colab_type": "code",
        "colab": {}
      },
      "source": [
        "print('min',pr[min(pr, key=pr.get)])\n",
        "print('max',pr[max(pr, key=pr.get)])\n",
        "print('mean',float(sum(pr.values())) / len(pr))"
      ],
      "execution_count": 0,
      "outputs": []
    },
    {
      "cell_type": "code",
      "metadata": {
        "id": "a91wLhw9SKxA",
        "colab_type": "code",
        "colab": {}
      },
      "source": [
        "katz = nx.katz.katz_centrality(train_graph,alpha=0.005,beta=1)"
      ],
      "execution_count": 0,
      "outputs": []
    },
    {
      "cell_type": "code",
      "metadata": {
        "id": "Y7hqQeNDYD7o",
        "colab_type": "code",
        "colab": {}
      },
      "source": [
        "print('min',katz[min(katz, key=katz.get)])\n",
        "print('max',katz[max(katz, key=katz.get)])\n",
        "print('mean',float(sum(katz.values())) / len(katz))"
      ],
      "execution_count": 0,
      "outputs": []
    },
    {
      "cell_type": "code",
      "metadata": {
        "id": "f36eC_-3YbpT",
        "colab_type": "code",
        "colab": {}
      },
      "source": [
        "hits = nx.hits(train_graph, max_iter=100, tol=1e-08, nstart=None, normalized=True)\n",
        "\n",
        "print('min',hits[0][min(hits[0], key=hits[0].get)])\n",
        "print('max',hits[0][max(hits[0], key=hits[0].get)])\n",
        "print('mean',float(sum(hits[0].values())) / len(hits[0]))"
      ],
      "execution_count": 0,
      "outputs": []
    },
    {
      "cell_type": "code",
      "metadata": {
        "id": "uzirnT6CYkK3",
        "colab_type": "code",
        "colab": {}
      },
      "source": [
        "node2vec = Node2Vec(train_graph, dimensions = 20, walk_length = 25, num_walks = 100)\n"
      ],
      "execution_count": 0,
      "outputs": []
    },
    {
      "cell_type": "code",
      "metadata": {
        "id": "Ql56zk83lo7M",
        "colab_type": "code",
        "colab": {}
      },
      "source": [
        "model = node2vec.fit()"
      ],
      "execution_count": 0,
      "outputs": []
    },
    {
      "cell_type": "code",
      "metadata": {
        "id": "RfSQiydNlE-S",
        "colab_type": "code",
        "colab": {}
      },
      "source": [
        "model.wv.get_vector('23')"
      ],
      "execution_count": 0,
      "outputs": []
    },
    {
      "cell_type": "code",
      "metadata": {
        "id": "AgXKL3kw0qW-",
        "colab_type": "code",
        "colab": {}
      },
      "source": [
        "import pickle\n",
        "# pickle.dump(model, open('node2vec_50000', 'wb'))"
      ],
      "execution_count": 0,
      "outputs": []
    },
    {
      "cell_type": "code",
      "metadata": {
        "id": "h4P9yawC6owZ",
        "colab_type": "code",
        "colab": {}
      },
      "source": [
        "model = pickle.load(open('node2vec_50000', 'rb'))\n",
        "model.wv.get_vector('23')"
      ],
      "execution_count": 0,
      "outputs": []
    },
    {
      "cell_type": "code",
      "metadata": {
        "id": "l0aVexd4uEWB",
        "colab_type": "code",
        "colab": {}
      },
      "source": [
        "def compute_shortest_path_length(a,b):\n",
        "    p=-1\n",
        "    try:\n",
        "        if train_graph.has_edge(a,b):\n",
        "            train_graph.remove_edge(a,b)\n",
        "            p= nx.shortest_path_length(train_graph,source=a,target=b)\n",
        "            train_graph.add_edge(a,b)\n",
        "        else:\n",
        "            p= nx.shortest_path_length(train_graph,source=a,target=b)\n",
        "        return p\n",
        "    except:\n",
        "        return -1\n",
        "\n",
        "def calc_adar_in(a,b):\n",
        "    sum=0\n",
        "    try:\n",
        "        n=list(set(train_graph.successors(a)).intersection(set(train_graph.successors(b))))\n",
        "        if len(n)!=0:\n",
        "            for i in n:\n",
        "                sum=sum+(1/np.log10(len(list(train_graph.predecessors(i)))))\n",
        "            return sum\n",
        "        else:\n",
        "            return 0\n",
        "    except:\n",
        "        return 0\n",
        "\n",
        "def jaccard_for_followees(a,b):\n",
        "    try:\n",
        "        if len(set(train_graph.successors(a))) == 0  | len(set(train_graph.successors(b))) == 0:\n",
        "            return 0\n",
        "        sim = (len(set(train_graph.successors(a)).intersection(set(train_graph.successors(b)))))/\\\n",
        "                                    (len(set(train_graph.successors(a)).union(set(train_graph.successors(b)))))\n",
        "    except:\n",
        "        return 0\n",
        "    return sim\n",
        "#for followers\n",
        "def jaccard_for_followers(a,b):\n",
        "    try:\n",
        "        if len(set(train_graph.predecessors(a))) == 0  | len(set(g.predecessors(b))) == 0:\n",
        "            return 0\n",
        "        sim = (len(set(train_graph.predecessors(a)).intersection(set(train_graph.predecessors(b)))))/\\\n",
        "                                 (len(set(train_graph.predecessors(a)).union(set(train_graph.predecessors(b)))))\n",
        "        return sim\n",
        "    except:\n",
        "        return 0"
      ],
      "execution_count": 0,
      "outputs": []
    },
    {
      "cell_type": "code",
      "metadata": {
        "id": "61f26Rf435pw",
        "colab_type": "code",
        "colab": {}
      },
      "source": [
        "# player_pair_history = {}\n",
        "\n",
        "# for i in range(1, 500000):\n",
        "#   wh = players_map[int(df[i][2])]\n",
        "#   bl = players_map[int(df[i][3])]\n",
        "  \n",
        "#   history = players_win_map[wh]\n",
        "   \n",
        "#   if float(df[i][4]) == 1:\n",
        "#     history.append(1)\n",
        "#   elif float(df[i][4]) == 0:\n",
        "#     history.append(0)\n",
        "#   elif float(df[i][4]) == 0.5:\n",
        "#     history.append(0.5)\n",
        "#   players_win_map[wh] = history\n",
        "  \n",
        "  \n",
        "#   #performance of black in last 10 games\n",
        "  \n",
        "#   history = players_win_map[bl]\n",
        "#   if float(df[i][4]) == 0:\n",
        "#     history.append(1)\n",
        "#   elif float(df[i][4]) == 1:\n",
        "#     history.append(0)\n",
        "#   elif float(df[i][4]) == 0.5:\n",
        "#     history.append(0.5)\n",
        "#   players_win_map[bl] = history\n",
        "\n",
        "\n",
        "#   #performance of white against black previously\n",
        "#   wh_wins = 0\n",
        "#   bl_wins = 0\n",
        "#   if (wh, bl) in player_pair_history:\n",
        "#     wh_wins = player_pair_history[(wh, bl)]\n",
        "#     if float(df[i][4]) == 1:\n",
        "#       player_pair_history[(wh, bl)] = wh_wins + 1\n",
        "#   else:\n",
        "#     if float(df[i][4]) == 1:\n",
        "#       player_pair_history[(wh, bl)] = 1\n",
        "\n",
        "#   if (bl, wh) in player_pair_history:\n",
        "#     bl_wins = player_pair_history[(bl, wh)]\n",
        "#     if float(df[i][4]) == 0:\n",
        "#       player_pair_history[(bl, wh)] = bl_wins + 1\n",
        "#   else:\n",
        "#     if float(df[i][4]) == 0:\n",
        "#       player_pair_history[(bl, wh)] = 1\n",
        "  \n"
      ],
      "execution_count": 0,
      "outputs": []
    },
    {
      "cell_type": "markdown",
      "metadata": {
        "id": "dkBN33srsr_X",
        "colab_type": "text"
      },
      "source": [
        "Prepare Train Data"
      ]
    },
    {
      "cell_type": "code",
      "metadata": {
        "id": "bs3f0tz8suUI",
        "colab_type": "code",
        "colab": {}
      },
      "source": [
        "train_data = []\n",
        "train_label = []\n",
        "player_pair_history = {}\n",
        "player_pair_loss = {}\n",
        "player_pair_draw = {}\n",
        "\n",
        "for i in range(1, 50000):\n",
        "  features = []\n",
        "  if int(df[i][2]) not in players_map or int(df[i][3]) not in players_map or float(df[i][4]) == 0.5:\n",
        "    continue\n",
        "  wh = players_map[int(df[i][2])]\n",
        "  bl = players_map[int(df[i][3])]\n",
        "  # add pagerank for white and black\n",
        "  features.append(pr[wh] - pr[bl])\n",
        "  \n",
        "  # add katz for white and black\n",
        "  features.append(katz[wh] - katz[bl])\n",
        "  \n",
        "  # add hits for white and black\n",
        "  features.append(hits[0][wh] - hits[0][bl])\n",
        "  features.append(hits[1][wh] - hits[1][bl])\n",
        "\n",
        "  #add shortest distance between white and black\n",
        "  features.append(compute_shortest_path_length(wh, bl))\n",
        "  \n",
        "  #add adamic adar between white and black\n",
        "  features.append(calc_adar_in(wh, bl))\n",
        "\n",
        "  #jaccard coeff between white and black for players defeated\n",
        "  features.append(jaccard_for_followees(wh, bl))\n",
        "  features.append(jaccard_for_followers(wh, bl))\n",
        "  \n",
        "  # white and black similarity\n",
        "  v1 = model.wv.get_vector(str(wh))\n",
        "  v2 = model.wv.get_vector(str(bl))\n",
        "  features.append(spatial.distance.cosine(v1, v2))\n",
        "\n",
        "\n",
        "\n",
        "\n",
        "  # non graph related features\n",
        "\n",
        "  \n",
        "\n",
        "  #performance of white against black previously\n",
        "  wh_wins = 0\n",
        "  bl_wins = 0\n",
        "  if (wh, bl) in player_pair_history:\n",
        "    wh_wins = player_pair_history[(wh, bl)]\n",
        "    if float(df[i][4]) == 1:\n",
        "      player_pair_history[(wh, bl)] = wh_wins + 1\n",
        "  else:\n",
        "    if float(df[i][4]) == 1:\n",
        "      player_pair_history[(wh, bl)] = 1\n",
        "\n",
        "  if (bl, wh) in player_pair_history:\n",
        "    bl_wins = player_pair_history[(bl, wh)]\n",
        "    if float(df[i][4]) == 0:\n",
        "      player_pair_history[(bl, wh)] = bl_wins + 1\n",
        "  else:\n",
        "    if float(df[i][4]) == 0:\n",
        "      player_pair_history[(bl, wh)] = 1\n",
        "  features.append(wh_wins - bl_wins)\n",
        "  if (train_graph.out_degree(wh) + train_graph.in_degree(wh)) != 0:\n",
        "    per_win_wh = train_graph.out_degree(wh)/(train_graph.out_degree(wh) + train_graph.in_degree(wh))\n",
        "  else:\n",
        "    per_win_wh = 0\n",
        "  if (train_graph.out_degree(bl) + train_graph.in_degree(bl)) != 0:\n",
        "    per_win_bl = train_graph.out_degree(bl)/(train_graph.out_degree(bl) + train_graph.in_degree(bl))\n",
        "  else:\n",
        "      per_win_bl = 0\n",
        "  features.append(per_win_wh - per_win_bl)\n",
        "  #performance of white in last 10 games\n",
        "  if wh in players_win_map:\n",
        "    history = players_win_map[wh]\n",
        "    if len(history) == 0:\n",
        "      # features.append(0)\n",
        "      \n",
        "      x = 0\n",
        "    else:\n",
        "      \n",
        "      if len(history) < 10:\n",
        "        perf = perf/len(history)\n",
        "        perf = np.count_nonzero(history == 1)\n",
        "      else:\n",
        "        perf = np.count_nonzero(history[-10:] == 1)\n",
        "        perf = perf/10\n",
        "      \n",
        "      # features.append(perf)\n",
        "      x = perf\n",
        "      history.append(1)\n",
        "      players_win_map[wh] = history\n",
        "  else:\n",
        "    # features.append(0)\n",
        "    x = 1\n",
        "    players_win_map[wh] = [1]\n",
        "  \n",
        "  \n",
        "  #performance of black in last 10 games\n",
        "  if bl in players_win_map:\n",
        "    history = players_win_map[bl]\n",
        "    if len(history) == 0:\n",
        "      # features.append(0)\n",
        "      # features_neg.append(0)\n",
        "      y = 0\n",
        "    else:\n",
        "      # history = np.array(history)\n",
        "      perf = np.count_nonzero(history == 1)\n",
        "      if len(history) < 10:\n",
        "        perf = np.count_nonzero(history == 1)\n",
        "        perf = perf/len(history)\n",
        "        \n",
        "      else:\n",
        "        perf = np.count_nonzero(history[-10:] == 1)\n",
        "        perf = perf/10\n",
        "      \n",
        "      # features.append(perf)\n",
        "      # features_neg.append(perf) \n",
        "      y = perf\n",
        "      history.append(0)\n",
        "      players_win_map[bl] = history\n",
        "  else:\n",
        "    # features.append(0)\n",
        "    # features_neg.append(0)\n",
        "    y = 0\n",
        "    players_win_map[bl] = [0]\n",
        "\n",
        "  # features_neg.append(x)\n",
        "  features.append(x - y)\n",
        "  \n",
        "\n",
        "\n",
        "\n",
        "  train_data.append(features)\n",
        "  if float(df[i][4]) == 1:\n",
        "    train_label.append(1)\n",
        "  elif float(df[i][4]) == 0:\n",
        "    train_label.append(0)\n",
        "  else:\n",
        "    train_label.append(3)\n",
        "\n",
        "\n",
        "\n",
        "    \n",
        "  \n",
        "  \n",
        "\n"
      ],
      "execution_count": 0,
      "outputs": []
    },
    {
      "cell_type": "code",
      "metadata": {
        "id": "ZGb3aGJX3gFC",
        "colab_type": "code",
        "colab": {}
      },
      "source": [
        "print(len(train_data))\n",
        "print(len(train_data[1]))\n",
        "print(len(train_label))"
      ],
      "execution_count": 0,
      "outputs": []
    },
    {
      "cell_type": "code",
      "metadata": {
        "id": "wjKHZ61N92Tx",
        "colab_type": "code",
        "colab": {}
      },
      "source": [
        "from sklearn.ensemble import RandomForestClassifier\n",
        "clf = RandomForestClassifier(max_depth = 10, random_state=0)\n",
        "clf.fit(train_data, train_label)\n",
        "print(clf.score(train_data, train_label))\n"
      ],
      "execution_count": 0,
      "outputs": []
    },
    {
      "cell_type": "code",
      "metadata": {
        "id": "JSuvi5qV8rqC",
        "colab_type": "code",
        "colab": {}
      },
      "source": [
        "test_data = []\n",
        "test_label = []\n",
        "\n",
        "\n",
        "for i in range(50000, 65000):\n",
        "  features = []\n",
        "  if int(df[i][2]) not in players_map or int(df[i][3]) not in players_map or float(df[i][4]) == 0.5:\n",
        "    continue\n",
        "  wh = players_map[int(df[i][2])]\n",
        "  bl = players_map[int(df[i][3])]\n",
        "  # add pagerank for white and black\n",
        "  features.append(pr[wh] - pr[bl])\n",
        "  \n",
        "  # add katz for white and black\n",
        "  features.append(katz[wh] - katz[bl])\n",
        "  \n",
        "  # add hits for white and black\n",
        "  features.append(hits[0][wh] - hits[0][bl])\n",
        "  features.append(hits[1][wh] - hits[1][bl])\n",
        "\n",
        "  #add shortest distance between white and black\n",
        "  features.append(compute_shortest_path_length(wh, bl))\n",
        "  \n",
        "  #add adamic adar between white and black\n",
        "  features.append(calc_adar_in(wh, bl))\n",
        "\n",
        "  #jaccard coeff between white and black for players defeated\n",
        "  features.append(jaccard_for_followees(wh, bl))\n",
        "  features.append(jaccard_for_followers(wh, bl))\n",
        "  \n",
        "  # white and black similarity\n",
        "  v1 = model.wv.get_vector(str(wh))\n",
        "  v2 = model.wv.get_vector(str(bl))\n",
        "  features.append(spatial.distance.cosine(v1, v2))\n",
        "\n",
        "\n",
        "\n",
        "\n",
        "  # non graph related features\n",
        "\n",
        "  \n",
        "  \n",
        "\n",
        "  #performance of white against black previously\n",
        "  wh_wins = 0\n",
        "  bl_wins = 0\n",
        "  if (wh, bl) in player_pair_history:\n",
        "    wh_wins = player_pair_history[(wh, bl)]\n",
        "    if float(df[i][4]) == 1:\n",
        "      player_pair_history[(wh, bl)] = wh_wins + 1\n",
        "  else:\n",
        "    if float(df[i][4]) == 1:\n",
        "      player_pair_history[(wh, bl)] = 1\n",
        "\n",
        "  if (bl, wh) in player_pair_history:\n",
        "    bl_wins = player_pair_history[(bl, wh)]\n",
        "    if float(df[i][4]) == 0:\n",
        "      player_pair_history[(bl, wh)] = bl_wins + 1\n",
        "  else:\n",
        "    if float(df[i][4]) == 0:\n",
        "      player_pair_history[(bl, wh)] = 1\n",
        "  features.append(wh_wins - bl_wins)\n",
        "  n_classes = 2\n",
        "  if (train_graph.out_degree(wh) + train_graph.in_degree(wh)) != 0:\n",
        "    per_win_wh = train_graph.out_degree(wh)/(train_graph.out_degree(wh) + train_graph.in_degree(wh))\n",
        "  else:\n",
        "    per_win_wh = 0\n",
        "  if (train_graph.out_degree(bl) + train_graph.in_degree(bl)) != 0:\n",
        "    per_win_bl = train_graph.out_degree(bl)/(train_graph.out_degree(bl) + train_graph.in_degree(bl))\n",
        "  \n",
        "  else:\n",
        "      per_win_bl = 0\n",
        "  features.append(per_win_wh - per_win_bl)\n",
        "\n",
        "  #performance of white in last 10 games\n",
        "  if wh in players_win_map:\n",
        "    history = players_win_map[wh]\n",
        "    if len(history) == 0:\n",
        "      # features.append(0)\n",
        "      \n",
        "      x = 0\n",
        "    else:\n",
        "      \n",
        "      if len(history) < 10:\n",
        "        perf = perf/len(history)\n",
        "        perf = np.count_nonzero(history == 1)\n",
        "      else:\n",
        "        perf = np.count_nonzero(history[-10:] == 1)\n",
        "        perf = perf/10\n",
        "      \n",
        "      # features.append(perf)\n",
        "      x = perf\n",
        "      history.append(1)\n",
        "      players_win_map[wh] = history\n",
        "  else:\n",
        "    # features.append(0)\n",
        "    x = 1\n",
        "    players_win_map[wh] = [1]\n",
        "  \n",
        "  \n",
        "  #performance of black in last 10 games\n",
        "  if bl in players_win_map:\n",
        "    history = players_win_map[bl]\n",
        "    if len(history) == 0:\n",
        "      # features.append(0)\n",
        "      # features_neg.append(0)\n",
        "      y = 0\n",
        "    else:\n",
        "      # history = np.array(history)\n",
        "      perf = np.count_nonzero(history == 1)\n",
        "      if len(history) < 10:\n",
        "        perf = np.count_nonzero(history == 1)\n",
        "        perf = perf/len(history)\n",
        "        \n",
        "      else:\n",
        "        perf = np.count_nonzero(history[-10:] == 1)\n",
        "        perf = perf/10\n",
        "      \n",
        "      # features.append(perf)\n",
        "      # features_neg.append(perf) \n",
        "      y = perf\n",
        "      history.append(0)\n",
        "      players_win_map[bl] = history\n",
        "  else:\n",
        "    # features.append(0)\n",
        "    # features_neg.append(0)\n",
        "    y = 0\n",
        "    players_win_map[bl] = [0]\n",
        "\n",
        "  # features_neg.append(x)\n",
        "  features.append(x - y)\n",
        "\n",
        "  test_data.append(features)\n",
        "  if float(df[i][4]) == 1:\n",
        "    test_label.append(1)\n",
        "  elif float(df[i][4]) == 0:\n",
        "    test_label.append(0)\n",
        "  else:\n",
        "    test_label.append(3)"
      ],
      "execution_count": 0,
      "outputs": []
    },
    {
      "cell_type": "code",
      "metadata": {
        "id": "-39AE5x9ASkC",
        "colab_type": "code",
        "colab": {}
      },
      "source": [
        "print(len(test_data))\n",
        "print(len(test_data[0]))"
      ],
      "execution_count": 0,
      "outputs": []
    },
    {
      "cell_type": "code",
      "metadata": {
        "id": "yv6D0JN8_bBj",
        "colab_type": "code",
        "colab": {}
      },
      "source": [
        "\n",
        "test_pred = clf.predict(test_data)\n",
        "predictions = clf.predict_proba(test_data)\n",
        "print(accuracy_score(test_pred, test_label))\n",
        "from sklearn.metrics import roc_auc_score\n",
        "print(roc_auc_score(test_label, predictions[:,1], multi_class = 'ovr'))\n",
        "from sklearn.metrics import precision_score\n",
        "print(precision_score(test_label, test_pred, average = 'weighted'))\n"
      ],
      "execution_count": 0,
      "outputs": []
    },
    {
      "cell_type": "code",
      "metadata": {
        "id": "0mzignavSxp1",
        "colab_type": "code",
        "colab": {}
      },
      "source": [
        "test_label = np.array(test_label)\n",
        "from sklearn.metrics import roc_auc_score\n",
        "from sklearn.metrics import roc_curve, auc\n",
        "import matplotlib.pyplot as plt\n",
        "\n",
        "fpr_1, tpr_1, _ = roc_curve(test_label, predictions[:,1])\n",
        "fpr_0, tpr_0, _ = roc_curve(1 - test_label, predictions[:, 0])\n",
        "plt.figure()\n",
        "lw = 2\n",
        "plt.plot(fpr_0, tpr_0, color='red',\n",
        "         lw=lw, label='Win')\n",
        "plt.plot(fpr_1, tpr_1, color='blue',\n",
        "         lw=lw, label='Loss')\n",
        "plt.plot([0, 1], [0, 1], color='navy', lw=lw, linestyle='--')\n",
        "plt.xlim([0.0, 1.0])\n",
        "plt.ylim([0.0, 1.05])\n",
        "plt.xlabel('False Positive Rate')\n",
        "plt.ylabel('True Positive Rate')\n",
        "plt.title('Receiver operating characteristic example')\n",
        "plt.legend(loc=\"lower right\")\n",
        "plt.savefig('roc_chess.png', dpi = 500)\n",
        "plt.show()"
      ],
      "execution_count": 0,
      "outputs": []
    },
    {
      "cell_type": "code",
      "metadata": {
        "id": "GRIT1st0_8Wc",
        "colab_type": "code",
        "colab": {}
      },
      "source": [
        "from sklearn.metrics import confusion_matrix\n",
        "cfm = confusion_matrix(test_label, test_pred)\n",
        "df_cm = pd.DataFrame(cfm, range(2), range(2))\n",
        "# plt.figure(figsize=(10,7))\n",
        "sns.set(font_scale = 0.8) # for label size\n",
        "sns.heatmap(df_cm, annot=True, fmt = \"d\") # font size\n",
        "\n",
        "plt.savefig('cm_chess.png', dpi = 500)"
      ],
      "execution_count": 0,
      "outputs": []
    },
    {
      "cell_type": "code",
      "metadata": {
        "id": "GRGyUULHEYX8",
        "colab_type": "code",
        "colab": {}
      },
      "source": [
        "train_data = np.array(train_data)\n",
        "import matplotlib.pyplot as plt\n",
        "\n",
        "from sklearn.datasets import make_classification\n",
        "importances = clf.feature_importances_\n",
        "std = np.std([tree.feature_importances_ for tree in clf.estimators_],\n",
        "             axis=0)\n",
        "indices = np.argsort(importances)[::-1]\n",
        "\n",
        "# Print the feature ranking\n",
        "print(\"Feature ranking:\")\n",
        "feature_name = [\"Page Rank Diff\", \"Katz Centrality Diff\", \"Hub Score Diff\", \"AUthority Score Diff\", \"Shortest Path\", \"Adamic Adar\", \"JC incoming\", \"JC outgoing\" , \"Node2vec similarity\", \"overall winning %\", \"% wins against opponent\", \"% wins in recent(10) games diff\"]\n",
        "for f in range(train_data.shape[1]):\n",
        "    print(\"%d. feature %d (%f)\" % (f + 1, indices[f], importances[indices[f]]) +\" \"+ feature_name[indices[f]])\n",
        "\n",
        "# Plot the impurity-based feature importances of the forest\n",
        "plt.figure()\n",
        "plt.title(\"Feature importances\")\n",
        "plt.bar(range(train_data.shape[1]), importances[indices],\n",
        "        color=\"r\", yerr=std[indices], align=\"center\")\n",
        "plt.xticks(range(train_data.shape[1]), indices)\n",
        "plt.xlim([-1, train_data.shape[1]])\n",
        "plt.show()"
      ],
      "execution_count": 0,
      "outputs": []
    },
    {
      "cell_type": "code",
      "metadata": {
        "id": "hesPNBO3_wT7",
        "colab_type": "code",
        "colab": {}
      },
      "source": [
        "x = [1, 2, 3, 4, 5 , 6, 7]\n",
        "x = np.array(x)\n",
        "ax = plt.subplot(111)\n",
        "w = 0.2\n",
        "ax.bar(x - w, ridge_time, width = w, align='center')\n",
        "ax.bar(x, lasso_time, width = w, align='center')\n",
        "ax.bar(x + w, huber_time, width = w, align='center', color = 'yellow')\n",
        "ax.legend([\"L2\", \"L1\", \"Huber\"])\n",
        "ax.autoscale(tight=True)\n",
        "\n",
        "plt.show()"
      ],
      "execution_count": 0,
      "outputs": []
    },
    {
      "cell_type": "code",
      "metadata": {
        "id": "zOMThHQJaJxG",
        "colab_type": "code",
        "colab": {}
      },
      "source": [
        "from sklearn.linear_model import LogisticRegression\n",
        "lr = LogisticRegression()\n",
        "from sklearn import preprocessing\n",
        "scaler = preprocessing.StandardScaler().fit(train_data)\n",
        "train_data = scaler.transform(train_data)\n",
        "test_data = scaler.transform(test_data)\n",
        "lr.fit(train_data, train_label)"
      ],
      "execution_count": 0,
      "outputs": []
    },
    {
      "cell_type": "code",
      "metadata": {
        "id": "P4ZHbVGBaOfV",
        "colab_type": "code",
        "colab": {}
      },
      "source": [
        "predictions = lr.predict_proba(test_data)\n",
        "from sklearn.metrics import accuracy_score\n",
        "test_pred = lr.predict(test_data)\n",
        "print(accuracy_score(test_pred, test_label))\n",
        "from sklearn.metrics import confusion_matrix\n",
        "cfm = confusion_matrix(test_label, test_pred)\n",
        "df_cm = pd.DataFrame(cfm, range(2), range(2))\n",
        "# plt.figure(figsize=(10,7))\n",
        "sns.set(font_scale = 0.8) # for label size\n",
        "sns.heatmap(df_cm, annot=True, fmt = \"d\") # font size\n",
        "from sklearn.metrics import roc_auc_score\n",
        "print(roc_auc_score(test_label, predictions[:, 1], average = \"macro\", multi_class='ovr'))\n",
        "print(precision_score(test_label, test_pred, average = 'weighted'))\n"
      ],
      "execution_count": 0,
      "outputs": []
    },
    {
      "cell_type": "code",
      "metadata": {
        "id": "GqVkT_Zt57Bw",
        "colab_type": "code",
        "colab": {}
      },
      "source": [
        "from sklearn.neural_network import MLPClassifier\n",
        "clf = MLPClassifier(random_state=1, max_iter=300).fit(train_data, train_label)\n",
        "print(clf.score(train_data, train_label))\n",
        "predictions = clf.predict_proba(test_data)\n",
        "test_pred = clf.predict(test_data)\n",
        "print(roc_auc_score(test_label, predictions[:, 1], average = \"macro\", multi_class='ovr'))\n",
        "print(accuracy_score(test_pred, test_label))\n",
        "print(\"Precision = {}\".format(precision_score(test_label, test_pred, average='weighted')))"
      ],
      "execution_count": 0,
      "outputs": []
    },
    {
      "cell_type": "code",
      "metadata": {
        "id": "iEiaKDn-_FSI",
        "colab_type": "code",
        "colab": {}
      },
      "source": [
        "train_data = np.array(train_data)\n",
        "test_data = np.array(test_data)\n",
        "train_label = np.array(train_label)\n",
        "test_label = np.array(test_label)"
      ],
      "execution_count": 0,
      "outputs": []
    },
    {
      "cell_type": "code",
      "metadata": {
        "id": "UUdUCM9PYqHw",
        "colab_type": "code",
        "colab": {}
      },
      "source": [
        "np.save('train_data', train_data) \n",
        "np.save('train_label', train_label)\n",
        "np.save('test_data', test_data)\n",
        "np.save('test_label', test_label)"
      ],
      "execution_count": 0,
      "outputs": []
    },
    {
      "cell_type": "code",
      "metadata": {
        "id": "m99roO0Iakpy",
        "colab_type": "code",
        "colab": {}
      },
      "source": [
        "import xgboost as xgb\n",
        "param = {\n",
        "    'eta': 0.3, \n",
        "    'max_depth': 3,  \n",
        "    'objective': 'multi:softprob',  \n",
        "    'num_class': 2} \n",
        "\n",
        "steps = 20 \n",
        "train_d = xgb.DMatrix(train_data, label = train_label)\n",
        "test_d = xgb.DMatrix(test_data, label= test_label)\n",
        "model = xgb.train(param, train_d, steps)\n",
        "import numpy as np\n",
        "from sklearn.metrics import precision_score, recall_score, accuracy_score\n",
        "\n",
        "preds = model.predict(test_d)\n",
        "best_preds = np.asarray([np.argmax(line) for line in preds])\n",
        "\n",
        "print(\"Precision = {}\".format(precision_score(test_label, best_preds, average='weighted')))\n",
        "print(\"Recall = {}\".format(recall_score(test_label, best_preds, average='macro')))\n",
        "print(\"Accuracy = {}\".format(accuracy_score(test_label, best_preds)))\n",
        "print(roc_auc_score(test_label, preds[:,1], average = \"macro\", multi_class='ovr'))"
      ],
      "execution_count": 0,
      "outputs": []
    },
    {
      "cell_type": "code",
      "metadata": {
        "id": "InocmTfHRPIF",
        "colab_type": "code",
        "colab": {}
      },
      "source": [
        "\n",
        "print(nx.average_clustering(train_graph))"
      ],
      "execution_count": 0,
      "outputs": []
    },
    {
      "cell_type": "code",
      "metadata": {
        "id": "cVthSA7kbSRZ",
        "colab_type": "code",
        "colab": {}
      },
      "source": [
        "degree_sequence = sorted([d for n, d in train_graph.out_degree()], reverse=True)\n",
        "# print \"Degree sequence\", degree_sequence\n",
        "dmax = max(degree_sequence)\n",
        "print(dmax)"
      ],
      "execution_count": 0,
      "outputs": []
    },
    {
      "cell_type": "code",
      "metadata": {
        "id": "cFbuElDbbnBF",
        "colab_type": "code",
        "colab": {}
      },
      "source": [
        "degree_sequence = sorted([d for n, d in train_graph.in_degree()], reverse=True)\n",
        "# print \"Degree sequence\", degree_sequence\n",
        "dmax = max(degree_sequence)\n",
        "print(dmax)"
      ],
      "execution_count": 0,
      "outputs": []
    },
    {
      "cell_type": "code",
      "metadata": {
        "id": "Q_sHLFg2dXPs",
        "colab_type": "code",
        "colab": {}
      },
      "source": [
        "def degree_distribution(G):\n",
        "    degree_sequence = sorted([d for n, d in G.degree()], reverse=True)\n",
        "    #Degree of nodes in decreasing manner\n",
        "    # print (\"Degree sequence\", degree_sequence)\n",
        "    dmax = max(degree_sequence)\n",
        "    x, y = np.unique(degree_sequence, return_counts=True)\n",
        "    #counting the frequency of nodes having a particular degree \n",
        "    x = x[1:,]\n",
        "    y = y[1:,]\n",
        "    # print(x[0:100])\n",
        "\n",
        "    x = np.log10(x)\n",
        "    y = y/G.number_of_nodes()\n",
        "    y = np.log10(y)\n",
        "\n",
        "\n",
        "    # print(x.shape, y.shape)\n",
        "    x = x.reshape(-1, 1)\n",
        "    # print(x)\n",
        "    # print(y)\n",
        "#     model = LinearRegression()\n",
        "#     model.fit(x, y)\n",
        "#     m = model.coef_\n",
        "    # print(m)\n",
        "    # print(c)\n",
        "#     c = model.intercept_\n",
        "#     fx = m * x + c\n",
        "    return x, y"
      ],
      "execution_count": 0,
      "outputs": []
    },
    {
      "cell_type": "code",
      "metadata": {
        "id": "E2N0yZZnbvUl",
        "colab_type": "code",
        "colab": {}
      },
      "source": [
        "import matplotlib.pyplot as plt\n",
        "x, y = degree_distribution(train_graph)\n",
        "\n",
        "\n",
        "plt1, = plt.plot(x, y, 'o', label = 'Chess Game')\n",
        "plt.legend(handles=[plt1])\n",
        "plt.title(\"Degree distribution in loglog scale\")\n",
        "plt.ylabel(\"Fraction of Nodes\")\n",
        "plt.xlabel(\"Degree\")\n",
        "plt.show()"
      ],
      "execution_count": 0,
      "outputs": []
    },
    {
      "cell_type": "code",
      "metadata": {
        "id": "1i8DVvVEdtqV",
        "colab_type": "code",
        "colab": {}
      },
      "source": [
        "import matplotlib.pyplot as plt\n",
        "import networkx as nx\n",
        "\n",
        "def plot_degree_dist(G):\n",
        "    degrees = [G.degree(n) for n in G.nodes()]\n",
        "    plt.hist(degrees)\n",
        "    plt.xlabel('Degree')\n",
        "    plt.ylabel('Number of Nodes')\n",
        "    plt.title('Degree Distribution')\n",
        "    plt.savefig('dd_chess.png', dpi = 500)\n",
        "    plt.show()\n",
        "\n",
        "plot_degree_dist(train_graph)\n",
        "\n",
        "\n"
      ],
      "execution_count": 0,
      "outputs": []
    },
    {
      "cell_type": "code",
      "metadata": {
        "id": "LLTAhAPBTHe1",
        "colab_type": "code",
        "colab": {}
      },
      "source": [
        ""
      ],
      "execution_count": 0,
      "outputs": []
    }
  ]
}