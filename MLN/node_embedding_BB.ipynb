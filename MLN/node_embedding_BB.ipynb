{
  "nbformat": 4,
  "nbformat_minor": 0,
  "metadata": {
    "colab": {
      "name": "node_embedding_BB",
      "provenance": []
    },
    "kernelspec": {
      "name": "python3",
      "display_name": "Python 3"
    }
  },
  "cells": [
    {
      "cell_type": "code",
      "metadata": {
        "id": "m7bPMD1-O002",
        "colab_type": "code",
        "colab": {}
      },
      "source": [
        "from google.colab import drive\n",
        "drive.mount('/content/drive/')"
      ],
      "execution_count": 0,
      "outputs": []
    },
    {
      "cell_type": "code",
      "metadata": {
        "id": "pzH_gvcHO6ix",
        "colab_type": "code",
        "colab": {}
      },
      "source": [
        "cd drive/My Drive/mln_project"
      ],
      "execution_count": 0,
      "outputs": []
    },
    {
      "cell_type": "code",
      "metadata": {
        "id": "xDeDLGjXcIAo",
        "colab_type": "code",
        "colab": {}
      },
      "source": [
        "!pip install node2vec"
      ],
      "execution_count": 0,
      "outputs": []
    },
    {
      "cell_type": "code",
      "metadata": {
        "id": "lmtoInbMYDEV",
        "colab_type": "code",
        "colab": {}
      },
      "source": [
        "import pandas as pd\n",
        "import numpy as np\n",
        "import networkx as nx\n",
        "import math\n",
        "from scipy import spatial\n",
        "import pickle\n",
        "from sklearn.metrics import accuracy_score\n",
        "import seaborn as sns\n",
        "from node2vec import Node2Vec\n",
        "import random"
      ],
      "execution_count": 0,
      "outputs": []
    },
    {
      "cell_type": "code",
      "metadata": {
        "id": "NF3MddDbPGdA",
        "colab_type": "code",
        "colab": {}
      },
      "source": [
        "file2 = 'RegularSeasonCompactResults.csv'\n",
        "df = pd.read_csv(file2, delimiter = ',', header = None)\n",
        "df = np.array(df)"
      ],
      "execution_count": 0,
      "outputs": []
    },
    {
      "cell_type": "code",
      "metadata": {
        "id": "l5Sgv1DBYAeD",
        "colab_type": "code",
        "colab": {}
      },
      "source": [
        "print(df[:5])\n",
        "print(df.shape)"
      ],
      "execution_count": 0,
      "outputs": []
    },
    {
      "cell_type": "code",
      "metadata": {
        "id": "ueZgVhIdYmBp",
        "colab_type": "code",
        "colab": {}
      },
      "source": [
        "train_graph = nx.DiGraph()\n",
        "for i in range(1, df.shape[0] - 2000):\n",
        "  if int(df[i][0]) >= 2015:\n",
        "    train_graph.add_edge(int(df[i][2]), int(df[i][4]))"
      ],
      "execution_count": 0,
      "outputs": []
    },
    {
      "cell_type": "code",
      "metadata": {
        "id": "0z-zNIhd9KaO",
        "colab_type": "code",
        "colab": {}
      },
      "source": [
        "players_win_map = {}\n",
        "for i in train_graph.nodes():\n",
        "  players_win_map[i] = []\n",
        "print(len(players_win_map))\n",
        "print(players_win_map)\n",
        "  "
      ],
      "execution_count": 0,
      "outputs": []
    },
    {
      "cell_type": "code",
      "metadata": {
        "id": "FTkbbqnOYqhH",
        "colab_type": "code",
        "colab": {}
      },
      "source": [
        "node2vec = Node2Vec(train_graph, dimensions = 20, walk_length = 16, num_walks = 50)\n",
        "model = node2vec.fit(window=7, min_count=1)"
      ],
      "execution_count": 0,
      "outputs": []
    },
    {
      "cell_type": "code",
      "metadata": {
        "id": "-qHCA-vrcE-o",
        "colab_type": "code",
        "colab": {}
      },
      "source": [
        "edges = {}\n",
        "player_pair_history = {}\n",
        "train_data = []\n",
        "train_label = []\n",
        "for i in range(1, df.shape[0] - 2000):\n",
        "  if int(df[i][0]) < 2015:\n",
        "    continue\n",
        "  ind = random.randint(0, 10)\n",
        "  wid = int(df[i][2])\n",
        "  lid = int(df[i][4])\n",
        "  if ind < 5:\n",
        "    wh = int(df[i][2])\n",
        "    bl = int(df[i][4])\n",
        "  else:\n",
        "    wh = int(df[i][4])\n",
        "    bl = int(df[i][2])\n",
        "  features = list(model[str(wh)] - model[str(bl)])\n",
        "  emb1 = model[str(wh)]\n",
        "  emb2 = model[str(bl)]\n",
        "  # x = np.multiply(emb1, emb2)\n",
        "  # print(x)\n",
        " \n",
        "  train_data.append(features)\n",
        "  if int(df[i][2]) == wh:\n",
        "    train_label.append(1)\n",
        "  else:\n",
        "    train_label.append(0)\n",
        "  edges[(wh, bl)] = 1\n",
        "  \n",
        "  "
      ],
      "execution_count": 0,
      "outputs": []
    },
    {
      "cell_type": "code",
      "metadata": {
        "id": "qp4DKMKZlEUY",
        "colab_type": "code",
        "colab": {}
      },
      "source": [
        "print(len(train_data))\n",
        "print(len(train_label))"
      ],
      "execution_count": 0,
      "outputs": []
    },
    {
      "cell_type": "code",
      "metadata": {
        "id": "GpZFBSN3iH7o",
        "colab_type": "code",
        "colab": {}
      },
      "source": [
        "# nodes = list(train_graph.nodes())\n",
        "# print(nodes)\n",
        "# false_edge = []\n",
        "# false_edge_labels = []\n",
        "# for i in range(len(nodes)):\n",
        "#   for j in range(i + 1, len(nodes)):\n",
        "#     # print(nodes[i], nodes[j])\n",
        "#     if (nodes[i], nodes[j]) not in edges:\n",
        "      \n",
        "#       emb1 = model[str(nodes[i])]\n",
        "#       emb2 = model[str(nodes[j])]\n",
        "#       x = np.dot(emb1, emb2.T)\n",
        "#       # print(x)\n",
        "#       false_edge.append(x)\n",
        "      \n",
        "#       false_edge_labels.append(0)"
      ],
      "execution_count": 0,
      "outputs": []
    },
    {
      "cell_type": "code",
      "metadata": {
        "id": "NqP87yJhjS6p",
        "colab_type": "code",
        "colab": {}
      },
      "source": [
        "# print(len(false_edge))\n",
        "# print(len(false_edge_labels))"
      ],
      "execution_count": 0,
      "outputs": []
    },
    {
      "cell_type": "code",
      "metadata": {
        "id": "iSXBrzQBCorc",
        "colab_type": "code",
        "colab": {}
      },
      "source": [
        "# import random\n",
        "# x_sub, y_sub = zip(*random.sample(list(zip(false_edge[:40000], false_edge_labels[:40000])), 8723))\n",
        "# print(len(x_sub))\n",
        "# print(len(y_sub))\n",
        "# for i in x_sub:\n",
        "#   train_data.append(i)\n",
        "# for i in y_sub:\n",
        "#   train_label.append(i)\n",
        "# print(len(train_data))\n",
        "# print(len(train_label))"
      ],
      "execution_count": 0,
      "outputs": []
    },
    {
      "cell_type": "code",
      "metadata": {
        "id": "oRgO3MNte4E0",
        "colab_type": "code",
        "colab": {}
      },
      "source": [
        "test_data = []\n",
        "test_label = []\n",
        "for i in range(df.shape[0] - 2000, df.shape[0]):\n",
        "  if int(df[i][0]) < 2015:\n",
        "    continue\n",
        "  wid = int(df[i][2])\n",
        "  lid = int(df[i][4])\n",
        "  ind = random.randint(0, 10)\n",
        "  if ind < 5:\n",
        "    wh = int(df[i][2])\n",
        "    bl = int(df[i][4])\n",
        "  else:\n",
        "    wh = int(df[i][4])\n",
        "    bl = int(df[i][2])\n",
        "  \n",
        "  features = list(model[str(wh)] - model[str(bl)])\n",
        "  emb1 = model[str(wh)]\n",
        "  emb2 = model[str(bl)]\n",
        "  # x = np.multiply(emb1, emb2)\n",
        "  # x = np.sum(emb1, emb2)\n",
        "\n",
        "  \n",
        "\n",
        "  test_data.append(features)\n",
        "  if int(df[i][2]) == wh:\n",
        "    test_label.append(1)\n",
        "  else:\n",
        "    test_label.append(0)\n",
        "  # print(x)\n",
        "  "
      ],
      "execution_count": 0,
      "outputs": []
    },
    {
      "cell_type": "code",
      "metadata": {
        "id": "z0T2fxoahK18",
        "colab_type": "code",
        "colab": {}
      },
      "source": [
        "# x_sub, y_sub = zip(*random.sample(list(zip(false_edge[40000:], false_edge_labels[40000:])), 2000))\n",
        "# print(len(x_sub))\n",
        "# print(len(y_sub))\n",
        "# for i in x_sub:\n",
        "#   test_data.append(i)\n",
        "# for i in y_sub:\n",
        "#   test_label.append(i)\n",
        "# print(len(test_data))\n",
        "# print(len(test_label))"
      ],
      "execution_count": 0,
      "outputs": []
    },
    {
      "cell_type": "code",
      "metadata": {
        "id": "FO7ZNdrTEdSt",
        "colab_type": "code",
        "colab": {}
      },
      "source": [
        "from sklearn.ensemble import RandomForestClassifier\n",
        "clf = RandomForestClassifier(max_depth = 10, random_state=0)\n",
        "clf.fit(train_data, train_label)\n",
        "print(clf.score(train_data, train_label))\n",
        "test_pred = clf.predict(test_data)\n",
        "print(accuracy_score(test_pred, test_label))\n",
        "predictions = clf.predict_proba(test_data)\n",
        "print(roc_auc_score(test_label, predictions[:,1], average = \"macro\"))\n",
        "print(\"Precision = {}\".format(precision_score(test_label, test_pred, average='weighted')))"
      ],
      "execution_count": 0,
      "outputs": []
    },
    {
      "cell_type": "code",
      "metadata": {
        "id": "wYLE1_LAE7oF",
        "colab_type": "code",
        "colab": {}
      },
      "source": [
        "from sklearn.neural_network import MLPClassifier\n",
        "clf = MLPClassifier(random_state=1, max_iter=300).fit(train_data, train_label)\n",
        "print(clf.score(train_data, train_label))\n",
        "predictions = clf.predict_proba(test_data)\n",
        "test_pred = clf.predict(test_data)\n",
        "print(accuracy_score(test_pred, test_label))\n",
        "print(roc_auc_score(test_label, predictions[:, 1], average = \"macro\"))\n",
        "print(\"Precision = {}\".format(precision_score(test_label, test_pred, average='weighted')))"
      ],
      "execution_count": 0,
      "outputs": []
    },
    {
      "cell_type": "code",
      "metadata": {
        "id": "xQGpM92jEDit",
        "colab_type": "code",
        "colab": {}
      },
      "source": [
        "from sklearn import preprocessing\n",
        "from sklearn.linear_model import LogisticRegression\n",
        "lr = LogisticRegression()\n",
        "lr.fit(train_data, train_label)\n",
        "predictions = lr.predict_proba(test_data)\n",
        "from sklearn.metrics import roc_auc_score\n",
        "print(roc_auc_score(test_label, predictions[:,1], average = \"macro\", multi_class='ovr'))\n",
        "from sklearn.metrics import accuracy_score\n",
        "test_pred = lr.predict(test_data)\n",
        "print(accuracy_score(test_pred, test_label))\n",
        "from sklearn.metrics import precision_score\n",
        "print(\"Precision = {}\".format(precision_score(test_label, test_pred, average='weighted')))"
      ],
      "execution_count": 0,
      "outputs": []
    },
    {
      "cell_type": "code",
      "metadata": {
        "id": "52wZR6gOj78C",
        "colab_type": "code",
        "colab": {}
      },
      "source": [
        "import xgboost as xgb\n",
        "param = {\n",
        "    'eta': 0.3, \n",
        "    'max_depth': 3,  \n",
        "    'objective': 'multi:softprob',  \n",
        "    'num_class': 2} \n",
        "\n",
        "steps = 20 \n",
        "train_d = xgb.DMatrix(train_data, label = train_label)\n",
        "test_d = xgb.DMatrix(test_data, label= test_label)\n",
        "model = xgb.train(param, train_d, steps)\n",
        "import numpy as np\n",
        "from sklearn.metrics import precision_score, recall_score, accuracy_score\n",
        "\n",
        "preds = model.predict(test_d)\n",
        "best_preds = np.asarray([np.argmax(line) for line in preds])\n",
        "\n",
        "print(\"Precision = {}\".format(precision_score(test_label, best_preds, average='weighted')))\n",
        "print(\"Recall = {}\".format(recall_score(test_label, best_preds, average='macro')))\n",
        "print(\"Accuracy = {}\".format(accuracy_score(test_label, best_preds)))\n",
        "print(roc_auc_score(test_label, preds[:,1], average = \"macro\", multi_class='ovr'))"
      ],
      "execution_count": 0,
      "outputs": []
    },
    {
      "cell_type": "code",
      "metadata": {
        "id": "VrxeIXdCM1af",
        "colab_type": "code",
        "colab": {}
      },
      "source": [
        ""
      ],
      "execution_count": 0,
      "outputs": []
    }
  ]
}